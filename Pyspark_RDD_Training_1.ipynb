{
 "cells": [
  {
   "cell_type": "code",
   "execution_count": 0,
   "metadata": {
    "application/vnd.databricks.v1+cell": {
     "cellMetadata": {
      "byteLimit": 2048000,
      "rowLimit": 10000
     },
     "inputWidgets": {},
     "nuid": "f5d51cab-2131-40b7-8f07-c2eaa2d345cc",
     "showTitle": false,
     "tableResultSettingsMap": {},
     "title": ""
    }
   },
   "outputs": [],
   "source": [
    "#RDDs are immutable, partitioned datasets spread across a cluster for parallel processing.\n",
    "#Ensures data consistency by preventing changes.\n",
    "#Executes only when required, optimizing performance.\n",
    "#Distributes data across nodes for faster processing."
   ]
  },
  {
   "cell_type": "markdown",
   "metadata": {
    "application/vnd.databricks.v1+cell": {
     "cellMetadata": {
      "byteLimit": 2048000,
      "rowLimit": 10000
     },
     "inputWidgets": {},
     "nuid": "64dd767b-3f2f-41b0-be44-7b6be14128e5",
     "showTitle": false,
     "tableResultSettingsMap": {},
     "title": ""
    }
   },
   "source": [
    "**Tasks on FILTER()**"
   ]
  },
  {
   "cell_type": "code",
   "execution_count": 0,
   "metadata": {
    "application/vnd.databricks.v1+cell": {
     "cellMetadata": {
      "byteLimit": 2048000,
      "rowLimit": 10000
     },
     "inputWidgets": {},
     "nuid": "cf1a4d3e-43eb-45f5-bff5-ee803b15f652",
     "showTitle": false,
     "tableResultSettingsMap": {},
     "title": ""
    }
   },
   "outputs": [
    {
     "output_type": "stream",
     "name": "stdout",
     "output_type": "stream",
     "text": [
      "Out[2]: ['1,164.08,1,2023-06-23',\n '2,80.26,10,2022-01-10',\n '3,56.7,2,2022-02-19',\n '4,733.26,4,2023-05-25',\n '5,409.29,10,2023-04-27',\n '6,141.69,3,2022-01-22',\n '7,770.22,5,2022-12-28',\n '8,292.0,5,2022-08-20',\n '9,213.73,2,2023-12-03',\n '10,369.65,5,2022-01-03']"
     ]
    }
   ],
   "source": [
    "#How can you filter transactions where the quantity is greater than 5?\n",
    "Transaction_RDD_Header=sc.textFile('dbfs:/FileStore/high_quantity_transactions.csv')\n",
    "header=Transaction_RDD_Header.first()\n",
    "Transaction_RDD=Transaction_RDD_Header.filter(lambda row: row != header)\n",
    "Transaction_RDD.take(10)"
   ]
  },
  {
   "cell_type": "code",
   "execution_count": 0,
   "metadata": {
    "application/vnd.databricks.v1+cell": {
     "cellMetadata": {
      "byteLimit": 2048000,
      "rowLimit": 10000
     },
     "inputWidgets": {},
     "nuid": "0d04c33a-2d00-463e-84ec-64c7e23ba8cc",
     "showTitle": false,
     "tableResultSettingsMap": {},
     "title": ""
    }
   },
   "outputs": [
    {
     "output_type": "stream",
     "name": "stdout",
     "output_type": "stream",
     "text": [
      "Out[3]: ['1,164.08,1,2023-06-23',\n '2,80.26,10,2022-01-10',\n '3,56.7,2,2022-02-19',\n '4,733.26,4,2023-05-25',\n '5,409.29,10,2023-04-27',\n '6,141.69,3,2022-01-22',\n '7,770.22,5,2022-12-28',\n '8,292.0,5,2022-08-20',\n '9,213.73,2,2023-12-03',\n '10,369.65,5,2022-01-03']"
     ]
    }
   ],
   "source": [
    "Transaction_RDD_Header_2=sc.textFile('dbfs:/FileStore/high_quantity_transactions.csv')\n",
    "Transaction_RDD_2= Transaction_RDD_Header_2.zipWithIndex().filter(lambda row_index: row_index[1] > 0).map(lambda row_index: row_index[0])\n",
    "Transaction_RDD_2.take(10)"
   ]
  },
  {
   "cell_type": "code",
   "execution_count": 0,
   "metadata": {
    "application/vnd.databricks.v1+cell": {
     "cellMetadata": {
      "byteLimit": 2048000,
      "rowLimit": 10000
     },
     "inputWidgets": {},
     "nuid": "f38f86b6-3e25-4c95-b7d0-bc2fdbd2a00e",
     "showTitle": false,
     "tableResultSettingsMap": {},
     "title": ""
    }
   },
   "outputs": [
    {
     "output_type": "stream",
     "name": "stdout",
     "output_type": "stream",
     "text": [
      "Out[4]: ['2,80.26,10,2022-01-10',\n '4,733.26,4,2023-05-25',\n '5,409.29,10,2023-04-27',\n '7,770.22,5,2022-12-28',\n '8,292.0,5,2022-08-20',\n '10,369.65,5,2022-01-03',\n '11,823.61,8,2022-09-14',\n '12,261.04,8,2023-12-19',\n '13,953.92,6,2022-07-07',\n '14,895.45,9,2023-11-26']"
     ]
    }
   ],
   "source": [
    "#How can you filter transactions where the quantity is greater than 5?\n",
    "Filter_Transaction_RDD = Transaction_RDD.filter(lambda x: int(x.split(\",\")[2]) > 3)\n",
    "Filter_Transaction_RDD.take(10)"
   ]
  },
  {
   "cell_type": "code",
   "execution_count": 0,
   "metadata": {
    "application/vnd.databricks.v1+cell": {
     "cellMetadata": {
      "byteLimit": 2048000,
      "rowLimit": 10000
     },
     "inputWidgets": {},
     "nuid": "29a9ca35-2382-40f4-993f-31cc1c73ecd6",
     "showTitle": false,
     "tableResultSettingsMap": {},
     "title": ""
    }
   },
   "outputs": [
    {
     "output_type": "stream",
     "name": "stdout",
     "output_type": "stream",
     "text": [
      "Out[5]: ['5,409.29,10,2023-04-27',\n '38,938.2,10,2022-07-21',\n '43,458.31,10,2023-08-02',\n '59,920.32,10,2023-03-15',\n '65,287.65,10,2022-02-05',\n '79,352.76,10,2023-06-10',\n '90,998.87,10,2023-06-22',\n '14,895.45,9,2023-11-26',\n '17,313.23,9,2023-03-29',\n '20,395.67,9,2022-12-29',\n '26,629.93,9,2022-12-23',\n '28,805.78,9,2023-01-03',\n '29,757.76,9,2023-08-20',\n '31,403.92,9,2022-06-24',\n '66,392.45,9,2022-12-04',\n '92,663.87,9,2022-04-03',\n '99,587.68,9,2022-06-24',\n '11,823.61,8,2022-09-14',\n '12,261.04,8,2023-12-19',\n '34,122.12,8,2023-02-07',\n '35,111.38,8,2022-04-10',\n '37,656.77,8,2022-03-30',\n '39,284.62,8,2023-01-31',\n '54,738.17,8,2023-09-03',\n '56,644.76,8,2023-04-01',\n '83,525.3,8,2023-01-15',\n '88,125.9,8,2023-02-06',\n '89,728.91,8,2022-08-18',\n '25,411.72,7,2022-08-14',\n '40,478.53,7,2022-07-25',\n '41,573.55,7,2022-01-15',\n '58,689.51,7,2023-11-03',\n '75,936.76,7,2023-10-31',\n '81,986.42,7,2023-09-09',\n '98,236.63,7,2022-01-04',\n '13,953.92,6,2022-07-07',\n '15,547.17,6,2022-04-14',\n '60,430.81,6,2023-03-12',\n '68,115.2,6,2023-09-05',\n '69,273.24,6,2023-01-06',\n '72,621.81,6,2023-03-28',\n '82,302.1,6,2023-12-24',\n '93,986.93,6,2022-07-20']"
     ]
    }
   ],
   "source": [
    "Filter_Transaction_RDD_2 = Transaction_RDD.filter(lambda x: float(x.split(\",\")[1]) > 100 and int(x.split(\",\")[2]) > 5).sortBy(lambda x: int(x.split(\",\")[2]), ascending=False)\n",
    "#Filter_Transaction_RDD_2= Transaction_RDD.filter(lambda x: float(x.split(\",\")[1]) > 100.00).filter(lambda x:int(x.split(\",\")[2])>5).sortBy(lambda x: int(x.split(\",\")[2]), ascending=False)\n",
    "Filter_Transaction_RDD_2.collect()"
   ]
  },
  {
   "cell_type": "code",
   "execution_count": 0,
   "metadata": {
    "application/vnd.databricks.v1+cell": {
     "cellMetadata": {
      "byteLimit": 2048000,
      "rowLimit": 10000
     },
     "inputWidgets": {},
     "nuid": "0502ef73-f542-4df5-ab1e-caf3d0b48a16",
     "showTitle": false,
     "tableResultSettingsMap": {},
     "title": ""
    }
   },
   "outputs": [
    {
     "output_type": "stream",
     "name": "stdout",
     "output_type": "stream",
     "text": [
      "Out[8]: [['1', 'Alice', '30', 'HR'],\n ['2', 'Bob', '25', 'Engineering'],\n ['3', 'Charlie', '35', 'Finance'],\n ['4', 'David', '28', 'Engineering'],\n ['5', 'Eve', '40', 'HR']]"
     ]
    }
   ],
   "source": [
    "#1.Employee Data Analysis\n",
    "#Data File: employees.csv\n",
    "#Load the employee data from the CSV file into an RDD.\n",
    "#Find the average age of employees in each department.\n",
    "#List the names of employees who are older than 30 years.\n",
    "#Count the number of employees in each department\n",
    "\n",
    "Employee_RDD=sc.textFile('dbfs:/FileStore/employees.csv')\n",
    "header=Employee_RDD.first()\n",
    "Filter_Employee_RDD=Employee_RDD.filter(lambda line: line != header).map(lambda line: line.split(\",\"))\n",
    "Filter_Employee_RDD.take(5)"
   ]
  },
  {
   "cell_type": "code",
   "execution_count": 0,
   "metadata": {
    "application/vnd.databricks.v1+cell": {
     "cellMetadata": {
      "byteLimit": 2048000,
      "rowLimit": 10000
     },
     "inputWidgets": {},
     "nuid": "9b600339-1a51-4753-9943-ee5e45e155af",
     "showTitle": false,
     "tableResultSettingsMap": {},
     "title": ""
    }
   },
   "outputs": [
    {
     "output_type": "stream",
     "name": "stdout",
     "output_type": "stream",
     "text": [
      "Out[11]: [('Finance', 35.0), ('HR', 35.0), ('Engineering', 26.5)]"
     ]
    }
   ],
   "source": [
    "#Find the average age of employees in each department.\n",
    "Average_Age=Filter_Employee_RDD.map(lambda p: (p[3], (int(p[2]), 1))).reduceByKey(lambda a, b: (a[0] + b[0], a[1] + b[1])).mapValues(lambda v: v[0] / v[1])\n",
    "Average_Age.take(5)\n",
    "\n"
   ]
  },
  {
   "cell_type": "code",
   "execution_count": 0,
   "metadata": {
    "application/vnd.databricks.v1+cell": {
     "cellMetadata": {
      "byteLimit": 2048000,
      "rowLimit": 10000
     },
     "inputWidgets": {},
     "nuid": "2603accc-1145-4ec0-a713-f7737e4bb0fe",
     "showTitle": false,
     "tableResultSettingsMap": {},
     "title": ""
    }
   },
   "outputs": [
    {
     "output_type": "stream",
     "name": "stdout",
     "output_type": "stream",
     "text": [
      "Out[13]: ['Charlie', 'Eve']"
     ]
    }
   ],
   "source": [
    "#List the names of employees who are older than 30 years.\n",
    "Filter_Employee_RDD_2=Filter_Employee_RDD.filter(lambda p: int(p[2]) > 30).map(lambda p: p[1])\n",
    "Filter_Employee_RDD_2.collect()\n"
   ]
  },
  {
   "cell_type": "code",
   "execution_count": 0,
   "metadata": {
    "application/vnd.databricks.v1+cell": {
     "cellMetadata": {
      "byteLimit": 2048000,
      "rowLimit": 10000
     },
     "inputWidgets": {},
     "nuid": "1a4a95ba-705a-4fa2-85c0-b5ae2efa226b",
     "showTitle": false,
     "tableResultSettingsMap": {},
     "title": ""
    }
   },
   "outputs": [
    {
     "output_type": "stream",
     "name": "stdout",
     "output_type": "stream",
     "text": [
      "Out[16]: [('Finance', 1), ('HR', 2), ('Engineering', 2)]"
     ]
    }
   ],
   "source": [
    "#Count the number of employees in each department\n",
    "Filter_Employee_RDD_3=Filter_Employee_RDD.map(lambda p: (p[3], 1)).reduceByKey(lambda a, b: a+b)\n",
    "Filter_Employee_RDD_3.take(5)\n"
   ]
  },
  {
   "cell_type": "code",
   "execution_count": 0,
   "metadata": {
    "application/vnd.databricks.v1+cell": {
     "cellMetadata": {
      "byteLimit": 2048000,
      "rowLimit": 10000
     },
     "inputWidgets": {},
     "nuid": "f7bc50e8-09f1-412d-a3f9-6aa13df06571",
     "showTitle": false,
     "tableResultSettingsMap": {},
     "title": ""
    }
   },
   "outputs": [
    {
     "output_type": "stream",
     "name": "stdout",
     "output_type": "stream",
     "text": [
      "Out[18]: [['101', 'Laptop', 'Electronics', '1200'],\n ['102', 'Chair', 'Furniture', '150'],\n ['103', 'Book', 'Stationery', '20'],\n ['104', 'Smartphone', 'Electronics', '800'],\n ['105', 'Desk', 'Furniture', '300']]"
     ]
    }
   ],
   "source": [
    "#Product Sales Analysis\n",
    "#Data File: products.csv\n",
    "#Load the product data from the CSV file into an RDD.\n",
    "#Calculate the total sales for each product category.\n",
    "#Find the most expensive product in each category.\n",
    "#List all products with a price greater than 500.\n",
    "\n",
    "Products_RDD=sc.textFile('dbfs:/FileStore/products__1_.csv')\n",
    "header=Products_RDD.first()\n",
    "Filter_Products_RDD=Products_RDD.filter(lambda x:x!=header).map(lambda x:x.split(\",\"))\n",
    "Filter_Products_RDD.collect()"
   ]
  },
  {
   "cell_type": "code",
   "execution_count": 0,
   "metadata": {
    "application/vnd.databricks.v1+cell": {
     "cellMetadata": {
      "byteLimit": 2048000,
      "rowLimit": 10000
     },
     "inputWidgets": {},
     "nuid": "8b8673b1-e5aa-4dd6-a5c2-727107fe14bb",
     "showTitle": false,
     "tableResultSettingsMap": {},
     "title": ""
    }
   },
   "outputs": [
    {
     "output_type": "stream",
     "name": "stdout",
     "output_type": "stream",
     "text": [
      "Out[23]: [('Electronics', 2), ('Furniture', 2), ('Stationery', 1)]"
     ]
    }
   ],
   "source": [
    "#Calculate the total sales for each product category.\n",
    "Products_Category_RDD=Filter_Products_RDD.map(lambda x:(x[2],1)).reduceByKey(lambda a,b:a+b)\n",
    "Products_Category_RDD.take(5)"
   ]
  },
  {
   "cell_type": "code",
   "execution_count": 0,
   "metadata": {
    "application/vnd.databricks.v1+cell": {
     "cellMetadata": {
      "byteLimit": 2048000,
      "rowLimit": 10000
     },
     "inputWidgets": {},
     "nuid": "4b127fb1-7022-4006-a33d-b1451ce98b6e",
     "showTitle": false,
     "tableResultSettingsMap": {},
     "title": ""
    }
   },
   "outputs": [
    {
     "output_type": "stream",
     "name": "stdout",
     "output_type": "stream",
     "text": [
      "Out[57]: [('Electronics', 'Laptop'), ('Furniture', 'Desk'), ('Stationery', 'Book')]"
     ]
    }
   ],
   "source": [
    "#Find the most expensive product in each category.\n",
    "Expensive_RDD= Filter_Products_RDD.map(lambda x: (x[2],[x[1], float(x[3])])).reduceByKey(lambda a, b: a if a[1] > b[1] else b).mapValues(lambda x:x[0])\n",
    "Expensive_RDD.collect()"
   ]
  },
  {
   "cell_type": "code",
   "execution_count": 0,
   "metadata": {
    "application/vnd.databricks.v1+cell": {
     "cellMetadata": {
      "byteLimit": 2048000,
      "rowLimit": 10000
     },
     "inputWidgets": {},
     "nuid": "72b765f2-8168-4ea4-9da4-1db9ca3a52c6",
     "showTitle": false,
     "tableResultSettingsMap": {},
     "title": ""
    }
   },
   "outputs": [
    {
     "output_type": "stream",
     "name": "stdout",
     "output_type": "stream",
     "text": [
      "Out[62]: ['Laptop', 'Smartphone']"
     ]
    }
   ],
   "source": [
    "#List all products with a price greater than 500.\n",
    "Filter_Products_RDD_2=Filter_Products_RDD.filter(lambda x:int(x[3])>500).map(lambda x:x[1])\n",
    "Filter_Products_RDD_2.collect()"
   ]
  },
  {
   "cell_type": "code",
   "execution_count": 0,
   "metadata": {
    "application/vnd.databricks.v1+cell": {
     "cellMetadata": {
      "byteLimit": 2048000,
      "rowLimit": 10000
     },
     "inputWidgets": {},
     "nuid": "73d239d9-dfe7-4a5c-bf8d-8776764a910a",
     "showTitle": false,
     "tableResultSettingsMap": {},
     "title": ""
    }
   },
   "outputs": [
    {
     "output_type": "stream",
     "name": "stdout",
     "output_type": "stream",
     "text": [
      "Out[65]: [['1001', '1', '250.75', '2023-01-15'],\n ['1002', '2', '100.5', '2023-01-16'],\n ['1003', '1', '300.0', '2023-01-17'],\n ['1004', '3', '450.25', '2023-01-18'],\n ['1005', '2', '200.0', '2023-01-19']]"
     ]
    }
   ],
   "source": [
    "#Transaction Data Analysis\n",
    "#Data File: transactions.csv\n",
    "#Load the transaction data from the CSV file into an RDD.\n",
    "#Calculate the total transaction amount for each customer.\n",
    "#Find the average transaction amount per day.\n",
    "#List all transactions that occurred on or after \"2023-01-17\".\n",
    "Transaction_2_RDD=sc.textFile('dbfs:/FileStore/transactions.csv')\n",
    "header=Transaction_2_RDD.first()\n",
    "Transaction_2_RDD=Transaction_2_RDD.filter(lambda x:x!=header).map(lambda x:x.split(\",\"))\n",
    "Transaction_2_RDD.collect()"
   ]
  },
  {
   "cell_type": "code",
   "execution_count": 0,
   "metadata": {
    "application/vnd.databricks.v1+cell": {
     "cellMetadata": {
      "byteLimit": 2048000,
      "rowLimit": 10000
     },
     "inputWidgets": {},
     "nuid": "66e16894-218f-4b84-b905-b2b937e1a4c2",
     "showTitle": false,
     "tableResultSettingsMap": {},
     "title": ""
    }
   },
   "outputs": [
    {
     "output_type": "stream",
     "name": "stdout",
     "output_type": "stream",
     "text": [
      "Out[70]: [(1, 550.75), (2, 300.5), (3, 450.25)]"
     ]
    }
   ],
   "source": [
    "#Calculate the total transaction amount for each customer\n",
    "Transaction_Customer=Transaction_2_RDD.map(lambda x:(int(x[1]),float(x[2]))).reduceByKey(lambda a,b:a+b).sortByKey()\n",
    "Transaction_Customer.collect()"
   ]
  },
  {
   "cell_type": "code",
   "execution_count": 0,
   "metadata": {
    "application/vnd.databricks.v1+cell": {
     "cellMetadata": {
      "byteLimit": 2048000,
      "rowLimit": 10000
     },
     "inputWidgets": {},
     "nuid": "beea5ff2-5f0e-4061-ad87-849609162335",
     "showTitle": false,
     "tableResultSettingsMap": {},
     "title": ""
    }
   },
   "outputs": [
    {
     "output_type": "stream",
     "name": "stdout",
     "output_type": "stream",
     "text": [
      "Out[72]: [('2023-01-15', 250.75),\n ('2023-01-16', 100.5),\n ('2023-01-17', 300.0),\n ('2023-01-18', 450.25),\n ('2023-01-19', 200.0)]"
     ]
    }
   ],
   "source": [
    "#Find the average transaction amount per day\n",
    "Transaction_Customer_2=Transaction_2_RDD.map(lambda x:(x[3],float(x[2]))).reduceByKey(lambda a,b:a+b).sortByKey()\n",
    "Transaction_Customer_2.collect()"
   ]
  },
  {
   "cell_type": "code",
   "execution_count": 0,
   "metadata": {
    "application/vnd.databricks.v1+cell": {
     "cellMetadata": {
      "byteLimit": 2048000,
      "rowLimit": 10000
     },
     "inputWidgets": {},
     "nuid": "5d279302-aa95-4790-a06c-e341390627ad",
     "showTitle": false,
     "tableResultSettingsMap": {},
     "title": ""
    }
   },
   "outputs": [
    {
     "output_type": "stream",
     "name": "stdout",
     "output_type": "stream",
     "text": [
      "Out[74]: ['1003', '1004', '1005']"
     ]
    }
   ],
   "source": [
    "#List all transactions that occurred on or after \"2023-01-17\".\n",
    "Transaction_3_RDD=Transaction_2_RDD.filter(lambda x:x[3]>=\"2023-01-17\").map(lambda x:x[0])\n",
    "Transaction_3_RDD.collect()"
   ]
  }
 ],
 "metadata": {
  "application/vnd.databricks.v1+notebook": {
   "computePreferences": null,
   "dashboards": [],
   "environmentMetadata": {
    "base_environment": "",
    "client": "1"
   },
   "language": "python",
   "notebookMetadata": {
    "mostRecentlyExecutedCommandWithImplicitDF": {
     "commandId": 3038699318821714,
     "dataframes": [
      "_sqldf"
     ]
    },
    "pythonIndentUnit": 4
   },
   "notebookName": "Pyspark_RDD_Training_1",
   "widgets": {}
  }
 },
 "nbformat": 4,
 "nbformat_minor": 0
}
